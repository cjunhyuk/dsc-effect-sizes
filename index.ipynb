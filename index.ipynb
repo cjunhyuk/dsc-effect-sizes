{
 "cells": [
  {
   "cell_type": "markdown",
   "metadata": {},
   "source": [
    "# Effect Size \n",
    "\n",
    "## Introduction\n",
    "\n",
    "When comparing results between groups, and results prove to be different, it is important to understand what the size of the difference is. You'll learn about that here!\n",
    "\n",
    "## Objectives\n",
    "\n",
    "* Compare and contrast p-value and effect size for identifying the significance of results\n",
    "* Interpret the results of a simple effect size and identify shortcomings of this approach\n",
    "* Calculate and interpret standardized and unstandardized effect sizes\n",
    "* Create a visualization to demonstrate different effect sizes between distributions of data\n",
    "\n",
    "## Introduction to Effect Size\n",
    "\n",
    "Effect size is used to quantify the *size of the difference* between two groups under observation. Effect sizes are easy to calculate, understand and apply to any measured outcome and are applicable to a multitude of study domains. It is highly valuable towards quantifying the *effectiveness of a particular intervention, relative to some comparison*. Measuring effect size allows scientists to go beyond the obvious and simplistic *'Does it work or not?'* to the far more sophisticated, *'How well does it work in a range of contexts?'*. \n",
    "\n",
    "[More on effect size](https://www.slideshare.net/gaetanlion/effect-size-presentation)\n",
    "\n",
    "\n",
    "\n",
    "### P-value vs. Effect Size\n",
    "\n",
    "Effect size measurement places its emphasis on the effect size only, unlike statistical significance which combines effect size and sample size, thus promoting a more scientific approach towards knowledge accumulation. Effect size is therefore routinely used in **Meta-Analysis** i.e. for combining and comparing estimates from different studies conducted on different samples. \n",
    "\n",
    "By increasing sample size, you can show there is a statistically significant difference between two means. However, **statistically significant does not necessarily imply “significant.\"**.\n",
    "\n",
    ">**P value** = probability sample means are the same.\n",
    "\n",
    ">(1 – P) or **Confidence Level** = probability sample means are different.\n",
    "\n",
    ">**Effect Size** = how different sample means are\n",
    "\n",
    "\n",
    "In light of this, it is possible to achieve highly significant p-values for effect sizes that have no practical significance. In contrast, study designs with low power can produce non-significant p-values for effect sizes of great practical importance.\n",
    "\n",
    "[Further details on p-value vs. effect size calculation](http://www.win-vector.com/blog/2017/09/remember-p-values-are-not-effect-sizes/)\n",
    "\n",
    "## Why do data scientists need to know about 'Effect Size'?\n",
    "\n",
    "Consider the experiment conducted by Dowson (2000) to investigate time of day effects on children learning: do children learn better in the morning or afternoon? A group of 38 children was included in the experiment. Half were randomly allocated to listen to a story and answer questions about it at 9 am, the other half heard exactly the same story and had to answer the same questions at 3 pm. Their comprehension was measured by the number of questions answered correctly out of 20.\n",
    "\n",
    "The average score was 15.2 for the morning group and 17.9 for the afternoon group, giving a difference of 2.7. \n",
    "**How big of a difference is this?**\n",
    "\n",
    "If the results were measured on a standard scale, such as a 4 point GPA scale, interpreting the difference would not be a problem. If the average difference was, say, half a grade or a full grade, most people would have a fair idea of the educational significance of the effect of reading a story at different times of the day. However, in many experiments, there is no familiar scale available on which to record the outcomes i.e. student comprehension in this case. The experimenter often has to invent a scale or use (or adapt) an already existing one - but generally, most people would be unfamiliar with the interpretation of this scale.\n",
    "\n",
    "In a data analytics domain, effect size calculation serves three primary goals:\n",
    "\n",
    "* Communicate the **practical significance** of results. An effect might be statistically significant, but does it matter in practical scenarios?\n",
    "\n",
    "* Effect size calculation and interpretation allows you to draw **Meta-Analytical** conclusions. This allows you to group together a number of existing studies, calculate the meta-analytic effect size and get the best estimate of the effect size of the population. \n",
    "\n",
    "* Perform **Power Analysis**, which helps determine the number of participants (sample size) that a study requires to achieve a certain probability of finding a true effect - if there is one. \n",
    "\n",
    "\n",
    "## Calculating effect size in Python \n",
    "\n",
    "### Using SciPy for measuring effect size\n",
    "\n",
    "SciPy (pronounced “Sigh Pie”) is open-source software for mathematics, science, and engineering. The SciPy package contains various toolboxes dedicated to common issues in scientific computing. Its different submodules correspond to different applications, such as interpolation, integration, optimization, image processing, statistics, special functions, etc. For an experiment, you can use `scipy.stats` package which contains statistical tools and probabilistic descriptions of random processes. Detailed documentation of SciPy is available [here](https://docs.scipy.org/doc/scipy/reference/index.html). "
   ]
  },
  {
   "cell_type": "code",
   "execution_count": 1,
   "metadata": {},
   "outputs": [],
   "source": [
    "# Import necessary modules \n",
    "from __future__ import print_function, division\n",
    "import numpy as np\n",
    "\n",
    "# Import SciPy stats and matplotlib for calculating and visualising effect size\n",
    "import scipy.stats\n",
    "import matplotlib.pyplot as plt\n",
    "\n",
    "%matplotlib inline\n",
    "\n",
    "# seed the random number generator so you get the same results\n",
    "np.random.seed(10)"
   ]
  },
  {
   "cell_type": "markdown",
   "metadata": {},
   "source": [
    "### Example: \n",
    "To explore statistics that quantify effect size, let's first look at the difference in height between men and women in the USA, based on the mean and standard deviation for male and female heights as given in (BRFSS) Behavioral Risk Factor Surveillance System.\n",
    "\n",
    ">**Males Height**  (Mean = 178 , Standard Deviation = 7.7)\n",
    "\n",
    ">**Female Height** (Mean = 163 , Standard Deviation = 7.3)\n",
    "\n",
    "You can use `scipy.stats.norm()` to represent the height distributions by passing mean and standard deviation values as arguments for creating normal distribution. "
   ]
  },
  {
   "cell_type": "code",
   "execution_count": 2,
   "metadata": {},
   "outputs": [],
   "source": [
    "#Mean height and sd for males\n",
    "male_mean = 178\n",
    "male_sd = 7.7\n",
    "\n",
    "# Generate a normal distribution for male heights \n",
    "male_height = scipy.stats.norm(male_mean, male_sd)"
   ]
  },
  {
   "cell_type": "markdown",
   "metadata": {},
   "source": [
    " The result `male_height` is a SciPy `rv` object which represents a **normal continuous random variable**. "
   ]
  },
  {
   "cell_type": "code",
   "execution_count": 3,
   "metadata": {},
   "outputs": [
    {
     "data": {
      "text/plain": [
       "<scipy.stats._distn_infrastructure.rv_frozen at 0x16d7f464640>"
      ]
     },
     "execution_count": 3,
     "metadata": {},
     "output_type": "execute_result"
    }
   ],
   "source": [
    "male_height"
   ]
  },
  {
   "cell_type": "markdown",
   "metadata": {},
   "source": [
    "Use the mean and standard deviation for female height and repeat calculations shown above to calculate `female_height` as an `rv` object."
   ]
  },
  {
   "cell_type": "code",
   "execution_count": 4,
   "metadata": {},
   "outputs": [],
   "source": [
    "female_mean = 163\n",
    "female_sd = 7.3\n",
    "female_height = scipy.stats.norm(female_mean, female_sd)"
   ]
  },
  {
   "cell_type": "markdown",
   "metadata": {},
   "source": [
    "##  Evaluate Probability Density Function (PDF)\n",
    "\n",
    "A continuous random variable, as calculated above, takes on an uncountably infinite number of possible values. \n",
    "\n",
    "For a **discrete** random variable, X, that takes on a finite or infinite number of possible values, we determine P(X = x) for all of the possible values of X and call it the probability mass function (PMF). \n",
    "\n",
    "For **continuous** random variables, as in the case of heights, the probability that X takes on any particular value x is 0. That is, finding P(X = x) for a continuous random variable X is not going to work. Instead, you'll need to find the probability that X falls in some interval (a, b) i.e. you'll need to find **P(a < X < b)** using a **probability density function(PDF)**. \n",
    "\n",
    "\n",
    "The following function evaluates the normal (Gaussian) probability density function within 4 standard deviations of the mean. The function takes an rv object and returns a pair of NumPy arrays."
   ]
  },
  {
   "cell_type": "code",
   "execution_count": 6,
   "metadata": {},
   "outputs": [],
   "source": [
    "def evaluate_PDF(rv, x=4):\n",
    "    '''Input: a random variable object, standard deviation\n",
    "    output : x and y values for the normal distribution\n",
    "    '''\n",
    "    \n",
    "    # Identify the mean and standard deviation of random variable \n",
    "    mean = rv.mean()\n",
    "    std = rv.std()\n",
    "\n",
    "    # Use numpy to calculate evenly spaced numbers over the specified interval (4 sd) and generate 100 samples.\n",
    "    xs = np.linspace(mean - x*std, mean + x*std, 100)\n",
    "    \n",
    "    # Calculate the peak of normal distribution i.e. probability density. \n",
    "    ys = rv.pdf(xs)\n",
    "\n",
    "    return xs, ys # Return calculated values"
   ]
  },
  {
   "cell_type": "markdown",
   "metadata": {},
   "source": [
    "Let's use the function above to calculate `xs` and `ys` for male and female heights (pass the `rv` object as an argument) and plot the resulting `xs` and `ys` for both distributions to visualize the effect size.**  "
   ]
  },
  {
   "cell_type": "code",
   "execution_count": 7,
   "metadata": {},
   "outputs": [
    {
     "data": {
      "text/plain": [
       "Text(0.5, 0, 'height (cm)')"
      ]
     },
     "execution_count": 7,
     "metadata": {},
     "output_type": "execute_result"
    },
    {
     "data": {
      "image/png": "[encoded data removed]",
      "text/plain": [
       "<Figure size 432x288 with 1 Axes>"
      ]
     },
     "metadata": {
      "needs_background": "light"
     },
     "output_type": "display_data"
    }
   ],
   "source": [
    "# Male height\n",
    "xs, ys = evaluate_PDF(male_height)\n",
    "plt.plot(xs, ys, label='male', linewidth=4, color='#beaed4') \n",
    "\n",
    "#Female height \n",
    "xs, ys = evaluate_PDF(female_height)\n",
    "plt.plot(xs, ys, label='female', linewidth=4, color='#fdc086')\n",
    "\n",
    "plt.xlabel('height (cm)')\n"
   ]
  },
  {
   "cell_type": "markdown",
   "metadata": {},
   "source": [
    "Let's assume for the sake of simplicity that these are the true distributions for the population. As you studied earlier, in real life one would never observe the true population distribution.  You generally have to work with a random sample from the population. Let's try to work out how different these two groups are with respect to height by calculating un-standardized and standardized effect sizes.\n",
    "\n",
    "\n",
    "\n",
    "## Un-standardized or Simple Effect Size Calculation\n",
    "\n",
    "An unstandardized effect size simply tries to find the difference between two groups by calculating the difference between distribution means. Here is how you can do it in Python. \n",
    "\n",
    "You can use the `rvs` method from `scipy.stats` to generate a random sample of size 1000 from the population distributions.  Note that these are totally random and representative samples, with no measurement error.\n",
    "\n",
    "\n",
    "Visit [this link](https://docs.scipy.org/doc/scipy-1.0.0/reference/tutorial/stats.html) for more details on `sciPy.stats`. "
   ]
  },
  {
   "cell_type": "code",
   "execution_count": 8,
   "metadata": {},
   "outputs": [],
   "source": [
    "male_sample = male_height.rvs(1000)"
   ]
  },
  {
   "cell_type": "code",
   "execution_count": 9,
   "metadata": {
    "collapsed": true
   },
   "outputs": [
    {
     "data": {
      "text/plain": [
       "array([188.25321608, 183.5076481 , 166.10041775, 177.93544436,\n",
       "       182.784287  , 172.45534118, 180.04443921, 178.83582365,\n",
       "       178.03304402, 176.65557838, 181.33430166, 187.26338778,\n",
       "       170.56899434, 185.9177104 , 179.760452  , 181.42755962,\n",
       "       169.24816297, 179.04055396, 189.43093491, 169.68550238,\n",
       "       162.77149224, 164.57603332, 180.04874026, 196.36424845,\n",
       "       186.65242265, 190.87919104, 178.76344896, 188.7645721 ,\n",
       "       175.91139049, 182.72167222, 175.94165765, 173.77032059,\n",
       "       179.02185388, 174.33370649, 188.07524272, 179.50160225,\n",
       "       181.08161691, 175.400231  , 187.67483643, 172.36383483,\n",
       "       183.08378294, 175.29828644, 170.76636313, 174.23210343,\n",
       "       171.8046482 , 176.36222818, 175.38862011, 180.40370851,\n",
       "       182.35167556, 176.86486402, 177.80052891, 180.22602537,\n",
       "       173.84293115, 183.45283215, 184.48513049, 179.56757214,\n",
       "       196.43921822, 185.06443382, 177.13550197, 175.21121056,\n",
       "       176.21219663, 174.13668747, 186.69164568, 172.62686277,\n",
       "       177.37535918, 173.92442018, 186.055608  , 167.07711857,\n",
       "       175.20875629, 177.06132618, 180.45904444, 181.54895234,\n",
       "       176.33841783, 185.61585792, 180.4236041 , 197.00091313,\n",
       "       166.38592455, 182.77862511, 169.95247946, 171.8553321 ,\n",
       "       193.28515135, 191.43506894, 163.7073718 , 176.28464252,\n",
       "       177.49297157, 161.58581676, 177.62400506, 181.02872737,\n",
       "       179.67294162, 162.64316797, 186.52935341, 179.88298862,\n",
       "       177.52327737, 172.1950242 , 183.48208443, 185.07067247,\n",
       "       174.28788283, 178.68982462, 184.36788939, 162.95025668,\n",
       "       178.90456259, 163.31258196, 170.89359866, 181.61708604,\n",
       "       176.88837592, 174.91893469, 175.72092433, 184.53120629,\n",
       "       183.4425945 , 171.93802927, 180.25564358, 174.37478416,\n",
       "       196.51330717, 172.30695311, 175.59121857, 175.31360923,\n",
       "       174.61949798, 179.08650209, 180.10247976, 165.53700524,\n",
       "       173.58702712, 167.8325539 , 187.51878101, 196.98300313,\n",
       "       188.65088817, 180.66599499, 185.87337403, 179.28443906,\n",
       "       190.75671801, 183.14274999, 176.22941084, 169.3024558 ,\n",
       "       173.07228795, 180.41649502, 168.56106295, 176.29219285,\n",
       "       188.31743259, 178.22568477, 193.28747024, 189.14317513,\n",
       "       175.78525351, 167.53330859, 177.6300818 , 174.29793748,\n",
       "       180.90869876, 190.4309414 , 169.35209893, 175.00679481,\n",
       "       180.55909461, 186.73929343, 181.93250097, 181.19009184,\n",
       "       188.35303056, 181.80006794, 176.17506778, 178.44109566,\n",
       "       172.55554986, 182.20931925, 185.25725315, 155.05710486,\n",
       "       187.37974615, 177.56479043, 181.54884108, 183.10027989,\n",
       "       160.32770437, 168.7913443 , 175.43512105, 171.90629106,\n",
       "       180.11113041, 174.0351936 , 164.82475178, 182.71468931,\n",
       "       186.47099618, 182.34551445, 172.51144434, 175.99138202,\n",
       "       182.22289611, 182.64463269, 185.75283077, 175.73291974,\n",
       "       167.05922003, 172.77210984, 182.11091303, 183.72860291,\n",
       "       195.13288222, 178.90229694, 179.88353181, 176.63479907,\n",
       "       174.87588264, 184.01966897, 180.72177763, 176.40394796,\n",
       "       169.68633014, 177.05236232, 174.98943717, 187.66483773,\n",
       "       185.2928708 , 170.12820767, 186.98719644, 173.59577854,\n",
       "       179.02515873, 187.26112783, 170.10940215, 179.23507355,\n",
       "       169.29534029, 163.05199246, 185.59680319, 178.21735073,\n",
       "       171.6677695 , 165.78355144, 174.90865929, 188.33478049,\n",
       "       181.09901202, 175.12973709, 172.82541954, 178.81475304,\n",
       "       166.08574849, 188.35501013, 181.8745567 , 187.19649964,\n",
       "       173.66100633, 184.58218142, 183.29686639, 166.19537087,\n",
       "       179.1469974 , 180.426356  , 173.57313399, 175.22668226,\n",
       "       181.35862678, 177.70803231, 170.26368409, 182.55418877,\n",
       "       179.7541937 , 179.91867567, 178.73737692, 181.45746733,\n",
       "       175.79778454, 171.35676109, 172.28794874, 186.51292855,\n",
       "       162.46356637, 182.16216349, 166.8942986 , 165.61185221,\n",
       "       170.24942207, 176.01699109, 183.62490734, 164.92230852,\n",
       "       190.8903817 , 186.96067249, 176.97918334, 175.76510727,\n",
       "       170.65780038, 182.52791257, 178.52977132, 188.87289514,\n",
       "       172.71613977, 182.21916824, 177.71985446, 171.47797485,\n",
       "       192.64774112, 180.15296152, 182.77595966, 169.77202864,\n",
       "       172.43582035, 178.64787458, 173.49969529, 182.63557148,\n",
       "       181.37541234, 171.9759574 , 179.48560708, 178.03099182,\n",
       "       176.73662026, 169.15414556, 171.56658452, 179.62047061,\n",
       "       185.80768166, 170.52947676, 187.37229801, 179.40638481,\n",
       "       168.22238914, 180.49010246, 184.8204664 , 180.03583913,\n",
       "       195.85728035, 180.37674108, 184.87274304, 178.08487477,\n",
       "       185.54657079, 159.5540955 , 171.39707663, 175.19505874,\n",
       "       181.88023714, 179.45015035, 186.35624847, 180.74843082,\n",
       "       179.59643767, 176.88300306, 179.26206275, 184.38724613,\n",
       "       183.81580968, 184.77203982, 176.1523365 , 172.64806383,\n",
       "       174.37021936, 180.69096835, 190.40822116, 179.84291235,\n",
       "       181.73452024, 165.22874376, 198.63530937, 169.50287959,\n",
       "       191.99692609, 173.71843547, 185.37437655, 184.27719925,\n",
       "       178.49525938, 176.71867864, 170.75653473, 177.58732234,\n",
       "       186.47874876, 180.8653436 , 171.1973504 , 186.9169971 ,\n",
       "       168.73186811, 179.61576139, 171.1378607 , 171.97330435,\n",
       "       186.31392622, 174.43612518, 166.33391727, 173.85186731,\n",
       "       183.8259883 , 172.38362599, 187.35382641, 185.76377884,\n",
       "       178.56427917, 187.03773958, 192.34472784, 162.72599897,\n",
       "       186.90650476, 182.69147345, 175.51135051, 183.11392117,\n",
       "       181.05479015, 173.56390017, 189.45928162, 179.07990087,\n",
       "       187.15003901, 176.10776052, 165.40598304, 179.88494528,\n",
       "       176.18986683, 168.2916259 , 164.97184695, 182.7466721 ,\n",
       "       187.77662287, 188.75950242, 182.11353221, 178.0315857 ,\n",
       "       179.45853279, 178.34476508, 184.11907661, 174.20281629,\n",
       "       168.28575901, 176.31169597, 179.51899612, 176.0343405 ,\n",
       "       178.19871845, 194.94744157, 184.80963055, 167.32146648,\n",
       "       183.03319982, 161.24011351, 182.76590672, 181.67470413,\n",
       "       178.20094327, 170.53326632, 170.42529344, 181.17650191,\n",
       "       173.26985268, 184.44552967, 173.19813364, 175.20346625,\n",
       "       183.84792925, 177.7387621 , 176.71871467, 180.07570766,\n",
       "       180.88985274, 177.35385262, 179.74117289, 177.10771837,\n",
       "       181.16933857, 180.21614034, 181.88289037, 184.19285865,\n",
       "       170.06431676, 167.54572879, 175.94793564, 176.68104546,\n",
       "       181.56036874, 168.60711239, 179.48281086, 181.35296799,\n",
       "       165.41093015, 181.34901701, 188.76320927, 178.95993417,\n",
       "       171.1358242 , 173.55792127, 177.42289372, 173.98232135,\n",
       "       153.32610965, 189.26287464, 174.40484981, 176.6215483 ,\n",
       "       185.12055679, 179.81138469, 174.23771643, 177.28404213,\n",
       "       182.12259064, 182.2415042 , 176.52528019, 184.11917173,\n",
       "       184.04524304, 174.24452199, 170.25484054, 180.52233031,\n",
       "       182.45867307, 174.45857328, 174.64421746, 182.12926785,\n",
       "       179.20901537, 188.46267637, 181.96815839, 196.3577596 ,\n",
       "       182.07476506, 171.09969246, 176.4768621 , 177.26483609,\n",
       "       165.06056642, 183.21065311, 178.46760424, 177.82258285,\n",
       "       173.73944811, 169.48285108, 176.32806131, 171.2592477 ,\n",
       "       178.083017  , 171.02189948, 167.09870028, 178.729254  ,\n",
       "       179.4922647 , 182.18291016, 178.4337855 , 189.28554354,\n",
       "       173.10303707, 186.54319026, 170.35672987, 172.74597065,\n",
       "       174.84862716, 176.0944404 , 189.76445362, 172.99932454,\n",
       "       168.22858045, 183.81254574, 177.81590499, 166.00692297,\n",
       "       180.66690714, 185.25620663, 175.03182851, 190.01360761,\n",
       "       189.89774555, 172.67400506, 184.65679224, 161.84700258,\n",
       "       179.31126915, 172.16471168, 185.4521402 , 171.26615716,\n",
       "       185.914371  , 171.81774986, 174.70206376, 172.18329808,\n",
       "       179.69782612, 167.42702078, 182.9800392 , 172.81403603,\n",
       "       195.26237207, 176.10204917, 172.12024659, 181.70207332,\n",
       "       171.59514614, 182.56755708, 174.54440063, 181.75525872,\n",
       "       178.43362342, 182.20254038, 172.73995751, 172.92556673,\n",
       "       189.08225371, 188.64252901, 185.09416732, 173.58876839,\n",
       "       187.81787808, 175.46799329, 176.8731758 , 186.14996215,\n",
       "       177.14468059, 177.70061528, 175.51780111, 172.87360387,\n",
       "       172.57442597, 175.27602697, 179.16984114, 175.65765869,\n",
       "       168.92282136, 176.85167816, 176.26675425, 178.54018868,\n",
       "       181.48091766, 180.26433329, 171.6281729 , 171.62077163,\n",
       "       174.20769253, 172.2125226 , 165.76946772, 174.39077351,\n",
       "       166.9803878 , 168.27107415, 168.45008553, 169.891007  ,\n",
       "       169.28207742, 170.98571537, 175.99615288, 184.2728398 ,\n",
       "       167.62547066, 186.15836811, 182.03896367, 182.10786547,\n",
       "       176.04760326, 179.47934166, 182.3344978 , 182.83137246,\n",
       "       175.38239561, 183.67627815, 187.2623525 , 185.47330836,\n",
       "       183.41986615, 173.34159457, 178.03627119, 179.13216134,\n",
       "       174.4384488 , 179.68290301, 179.29940279, 177.61502173,\n",
       "       176.84572268, 177.72797392, 178.25884732, 175.17736488,\n",
       "       174.73357206, 177.60845769, 169.34709264, 163.69834212,\n",
       "       176.33275802, 168.92012533, 190.66466072, 183.57040481,\n",
       "       187.61074958, 183.64198843, 175.52812492, 181.85689125,\n",
       "       182.0035558 , 167.39035611, 184.04227197, 171.09843096,\n",
       "       168.92679792, 183.70714302, 173.58906015, 170.60025886,\n",
       "       187.14696856, 164.4005295 , 172.06783024, 186.65666275,\n",
       "       198.57197518, 178.49623035, 185.03382922, 170.32305218,\n",
       "       193.97787476, 173.45556371, 156.31679063, 178.84349208,\n",
       "       179.09855356, 171.96292618, 179.98360266, 188.10950515,\n",
       "       167.61250466, 181.85105375, 170.41868281, 189.44204149,\n",
       "       182.3943396 , 174.05086102, 180.12352466, 175.00253213,\n",
       "       182.9936765 , 177.81190025, 188.07535109, 198.50184655,\n",
       "       180.63899327, 184.71925227, 180.90595694, 174.09872277,\n",
       "       181.7192242 , 185.52217644, 184.5206779 , 179.20621853,\n",
       "       176.81018233, 192.09213306, 185.15415698, 188.64553865,\n",
       "       172.97758754, 188.95597076, 166.7668983 , 181.67789687,\n",
       "       178.22638611, 179.24595845, 174.83588827, 185.16743439,\n",
       "       182.14466859, 179.50298453, 193.90531803, 186.02380359,\n",
       "       179.41155182, 177.91153858, 162.69929805, 173.06559135,\n",
       "       174.29326195, 171.75597906, 177.1616737 , 192.02001103,\n",
       "       181.95833857, 176.19306055, 169.64104448, 185.32844392,\n",
       "       176.22597996, 192.39890625, 179.21448232, 189.03900125,\n",
       "       181.6393236 , 178.58257368, 178.97131547, 182.81698095,\n",
       "       177.79269568, 165.93065035, 163.48665367, 172.47515594,\n",
       "       171.7018899 , 179.61215739, 176.99421889, 181.79598608,\n",
       "       176.28470126, 182.32641798, 180.60305695, 186.49982135,\n",
       "       171.06769338, 163.36219423, 173.21942164, 183.60939968,\n",
       "       172.93001034, 174.31143384, 168.0737398 , 170.49866314,\n",
       "       176.5054105 , 164.55013401, 176.8374767 , 178.13800857,\n",
       "       176.47293212, 178.95977544, 172.88911788, 187.86811857,\n",
       "       184.10024402, 171.90851496, 177.41014145, 172.88537257,\n",
       "       187.7930188 , 177.07944203, 168.75246469, 184.51562523,\n",
       "       182.70646933, 176.43225629, 173.96386156, 174.77698002,\n",
       "       177.52324516, 169.84686815, 191.90039095, 177.43002118,\n",
       "       194.97761987, 174.51891249, 176.38734311, 175.73093045,\n",
       "       184.97998966, 185.6942596 , 180.42845917, 186.7610559 ,\n",
       "       186.917342  , 185.698156  , 174.79334564, 169.1929217 ,\n",
       "       165.47635951, 166.76732146, 175.56814477, 168.07519425,\n",
       "       177.16562813, 189.49789664, 176.79807942, 163.43433045,\n",
       "       184.47081941, 176.26596895, 174.15446411, 175.91316217,\n",
       "       167.79468279, 178.14282065, 183.81007288, 170.10901929,\n",
       "       182.38848828, 182.69092014, 173.62397319, 185.77080951,\n",
       "       169.07787401, 181.38594159, 176.89472321, 177.36489968,\n",
       "       180.99205075, 179.64614234, 162.88860742, 168.01416163,\n",
       "       169.67940698, 176.18243539, 184.00635658, 186.15289107,\n",
       "       183.17240519, 179.34857415, 170.52897286, 187.0964091 ,\n",
       "       178.81571008, 168.46726504, 173.22641657, 187.37906284,\n",
       "       189.04104101, 170.79349686, 194.23189267, 185.02015443,\n",
       "       182.3748865 , 168.99509893, 194.57017289, 177.59016834,\n",
       "       172.21135636, 174.65995035, 177.19244876, 170.37373605,\n",
       "       182.7276309 , 177.09745627, 164.66112505, 171.27172678,\n",
       "       169.26284601, 171.77996829, 173.76771332, 179.4434146 ,\n",
       "       175.73113281, 176.56070594, 172.23079629, 183.28873273,\n",
       "       175.86655798, 193.32304245, 171.11897237, 177.68420371,\n",
       "       188.01207172, 169.17506214, 170.6776928 , 169.40942454,\n",
       "       177.0000234 , 175.74321517, 179.64417429, 186.60883719,\n",
       "       169.09522987, 175.03195106, 181.07482078, 158.66168794,\n",
       "       173.94511814, 174.49047936, 173.34069941, 180.18626808,\n",
       "       186.44783039, 173.85295426, 194.90609492, 172.58964285,\n",
       "       177.5333834 , 179.67265727, 166.25723597, 181.5257682 ,\n",
       "       178.1620328 , 179.20406072, 185.98993726, 178.35162743,\n",
       "       186.52648835, 167.69902431, 176.04676624, 187.66257477,\n",
       "       177.37980221, 168.59951463, 169.09936914, 172.16848314,\n",
       "       167.89458617, 181.81418351, 156.32402793, 171.67538707,\n",
       "       167.29199053, 167.42603142, 173.61445196, 168.49101299,\n",
       "       181.67750191, 171.92101062, 173.74778837, 184.44980429,\n",
       "       180.09992719, 178.97216716, 177.80089015, 169.3425649 ,\n",
       "       180.32211047, 194.31315405, 175.97516074, 170.27391283,\n",
       "       166.31296907, 163.20063924, 175.35624158, 173.83919465,\n",
       "       186.04780519, 177.38449867, 183.09274123, 182.80009077,\n",
       "       187.2292341 , 175.62238773, 185.47029351, 181.47305584,\n",
       "       169.81715825, 170.10640632, 181.23102798, 175.57194145,\n",
       "       160.97719103, 179.97728173, 180.00607604, 179.52598534,\n",
       "       189.74906071, 174.93330365, 166.16975689, 182.8829478 ,\n",
       "       179.19275161, 182.62521119, 182.98409824, 179.15164592,\n",
       "       173.75466223, 177.49563143, 176.78250118, 174.48637312,\n",
       "       179.20791527, 177.07758029, 178.37531887, 169.60562491,\n",
       "       175.80060552, 169.17170456, 169.84956164, 188.60134723,\n",
       "       170.1702607 , 181.73911823, 165.032604  , 177.20256102,\n",
       "       186.03026619, 184.04338916, 172.29053289, 184.11180761,\n",
       "       175.13239876, 170.55158911, 168.70094685, 162.53859102,\n",
       "       181.61512079, 183.97253751, 190.86721199, 175.29545216,\n",
       "       175.47671232, 173.69660942, 180.40447882, 179.20671002,\n",
       "       166.41129404, 181.67402149, 182.39675672, 179.95633481,\n",
       "       176.14246111, 163.23997323, 178.77920215, 177.17761874,\n",
       "       174.41192405, 178.52180793, 176.27160587, 178.55238495,\n",
       "       177.10093597, 174.38208836, 169.45909459, 168.46386268,\n",
       "       180.62868494, 177.71535001, 181.13358965, 181.36131918,\n",
       "       177.007437  , 192.75052493, 174.1324714 , 178.52124079,\n",
       "       174.09201905, 175.23536256, 170.03977028, 183.23634802,\n",
       "       173.91898026, 183.04809683, 186.19379057, 177.83626013,\n",
       "       173.90806633, 180.38516912, 182.35347412, 183.00073447,\n",
       "       167.77756347, 189.58865344, 171.23315138, 167.3723393 ,\n",
       "       182.73796358, 175.34697442, 178.84263607, 179.6576401 ,\n",
       "       191.2469789 , 179.15055139, 181.61662827, 175.38721969,\n",
       "       172.57218612, 184.63759904, 182.52644248, 190.13013405,\n",
       "       172.06416995, 180.85886241, 183.94031707, 165.15152847,\n",
       "       168.18890327, 181.78969167, 179.78503119, 173.08206789,\n",
       "       185.01417939, 171.10484068, 166.90759328, 178.65436811,\n",
       "       179.01769475, 185.28649971, 179.72655128, 184.4180631 ,\n",
       "       170.53878277, 184.65411322, 169.95824977, 185.91435975,\n",
       "       176.4844266 , 177.93710804, 174.81127987, 177.00813419,\n",
       "       175.54308647, 166.74711495, 171.62123761, 173.18517808,\n",
       "       180.05425232, 182.05031314, 175.62768858, 180.95709095,\n",
       "       181.47032595, 175.61734569, 159.2565932 , 178.26857952,\n",
       "       189.19594124, 173.84002556, 183.6991707 , 172.54616747,\n",
       "       172.93549386, 194.25545873, 177.43815459, 170.74357292,\n",
       "       186.81656666, 180.39374809, 181.01943027, 163.41162707,\n",
       "       175.37036038, 178.5372576 , 176.76525058, 170.18958834,\n",
       "       175.44492634, 189.09336999, 174.99532245, 182.94686981])"
      ]
     },
     "execution_count": 9,
     "metadata": {},
     "output_type": "execute_result"
    }
   ],
   "source": [
    "# male_sample makes an array of 1000 using male height "
   ]
  },
  {
   "cell_type": "markdown",
   "metadata": {},
   "source": [
    "The resulting samples are NumPy arrays, so we can now easily calculate the mean and standard deviation of random samples. "
   ]
  },
  {
   "cell_type": "code",
   "execution_count": 10,
   "metadata": {},
   "outputs": [
    {
     "data": {
      "text/plain": [
       "(177.88791390576085, 7.222274730410271)"
      ]
     },
     "execution_count": 10,
     "metadata": {},
     "output_type": "execute_result"
    }
   ],
   "source": [
    "mean1, std1 = male_sample.mean(), male_sample.std()\n",
    "mean1, std1\n",
    "# (177.88791390576085, 7.222274730410271)"
   ]
  },
  {
   "cell_type": "markdown",
   "metadata": {},
   "source": [
    "The sample mean is close to the population mean, but not exactly the same, as expected.\n",
    "\n",
    "Now, perform above calculation for female heights to calculate mean and sd of random samples from `female_height` `rv` object**"
   ]
  },
  {
   "cell_type": "code",
   "execution_count": 11,
   "metadata": {},
   "outputs": [
    {
     "data": {
      "text/plain": [
       "(162.91903182040372, 7.261850929417819)"
      ]
     },
     "execution_count": 11,
     "metadata": {},
     "output_type": "execute_result"
    }
   ],
   "source": [
    "female_sample = female_height.rvs(1000)\n",
    "mean2, std2 = female_sample.mean(), female_sample.std()\n",
    "mean2, std2\n",
    "# (162.91903182040372, 7.261850929417819)"
   ]
  },
  {
   "cell_type": "markdown",
   "metadata": {},
   "source": [
    "And the results are similar for the female sample.\n",
    "\n",
    "Now, there are many ways to describe the magnitude of the difference between these distributions. An obvious one is the difference in the means. \n",
    "\n",
    "Now, calculate the difference in means of both distributions identified above.**"
   ]
  },
  {
   "cell_type": "code",
   "execution_count": 12,
   "metadata": {},
   "outputs": [
    {
     "data": {
      "text/plain": [
       "14.968882085357137"
      ]
     },
     "execution_count": 12,
     "metadata": {},
     "output_type": "execute_result"
    }
   ],
   "source": [
    "difference_in_means = male_sample.mean() - female_sample.mean()\n",
    "difference_in_means # in cm\n",
    "# 14.968882085357137"
   ]
  },
  {
   "cell_type": "markdown",
   "metadata": {},
   "source": [
    "This shows that, on average, men are around 15 centimeters taller. For some applications, that would be a good way to describe the difference, but there are caveats:\n",
    "\n",
    "* Without knowing more about the distributions (like the standard deviations or _spread_ of each distribution), it's hard to interpret whether a difference like 15 cm is a **big difference** or not.\n",
    "\n",
    "* The magnitude of the difference depends on the units of measure, making it hard to compare across different studies that may be conducted with different units of measurement.\n",
    "\n",
    "There are a number of ways to quantify the difference between distributions.  A simple option is to express the difference as a percentage of the mean.\n",
    "\n",
    "Let's figure out the relative difference in the means of two populations, scaled by the mean of male heights and expressed as a percentage. "
   ]
  },
  {
   "cell_type": "code",
   "execution_count": 13,
   "metadata": {},
   "outputs": [
    {
     "data": {
      "text/plain": [
       "8.414783082614122"
      ]
     },
     "execution_count": 13,
     "metadata": {},
     "output_type": "execute_result"
    }
   ],
   "source": [
    "relative_difference = difference_in_means / male_sample.mean()\n",
    "relative_difference * 100   # percent\n",
    "\n",
    "#  8.414783082614122"
   ]
  },
  {
   "cell_type": "markdown",
   "metadata": {},
   "source": [
    "But a problem with relative differences is that you have to choose which mean to express them relative to."
   ]
  },
  {
   "cell_type": "code",
   "execution_count": 14,
   "metadata": {},
   "outputs": [
    {
     "data": {
      "text/plain": [
       "9.18792722869745"
      ]
     },
     "execution_count": 14,
     "metadata": {},
     "output_type": "execute_result"
    }
   ],
   "source": [
    "relative_difference = difference_in_means / female_sample.mean()\n",
    "relative_difference * 100    # percent\n",
    "\n",
    "# 9.18792722869745"
   ]
  },
  {
   "cell_type": "markdown",
   "metadata": {},
   "source": [
    "## Overlap threshold\n",
    "\n",
    "As you can see above, there is still a difference in results when you express the relative difference, depending on whether we choose to represent the ratio relative to male height or female height. Perhaps you can look for the amount of overlap between the two distributions.  To define overlap, you choose a threshold between the two means.  The simple threshold is the midpoint between the means:"
   ]
  },
  {
   "cell_type": "code",
   "execution_count": 15,
   "metadata": {},
   "outputs": [
    {
     "data": {
      "text/plain": [
       "170.4034728630823"
      ]
     },
     "execution_count": 15,
     "metadata": {},
     "output_type": "execute_result"
    }
   ],
   "source": [
    "simple_thresh = (mean1 + mean2) / 2\n",
    "simple_thresh"
   ]
  },
  {
   "cell_type": "markdown",
   "metadata": {},
   "source": [
    "A better, but slightly more complicated threshold is the place where the PDFs cross."
   ]
  },
  {
   "cell_type": "code",
   "execution_count": 16,
   "metadata": {},
   "outputs": [
    {
     "data": {
      "text/plain": [
       "170.42392323303363"
      ]
     },
     "execution_count": 16,
     "metadata": {},
     "output_type": "execute_result"
    }
   ],
   "source": [
    "thresh = (std1 * mean2 + std2 * mean1) / (std1 + std2)\n",
    "thresh"
   ]
  },
  {
   "cell_type": "markdown",
   "metadata": {},
   "source": [
    "In this example, there's not much difference between the two thresholds.\n",
    "Now you can count how many men are below the threshold:"
   ]
  },
  {
   "cell_type": "code",
   "execution_count": 17,
   "metadata": {},
   "outputs": [
    {
     "data": {
      "text/plain": [
       "154"
      ]
     },
     "execution_count": 17,
     "metadata": {},
     "output_type": "execute_result"
    }
   ],
   "source": [
    "male_below_thresh = sum(male_sample < thresh)\n",
    "male_below_thresh"
   ]
  },
  {
   "cell_type": "markdown",
   "metadata": {},
   "source": [
    "Similarly, you can calculate how many women are above the calculated threshold"
   ]
  },
  {
   "cell_type": "code",
   "execution_count": 18,
   "metadata": {},
   "outputs": [
    {
     "data": {
      "text/plain": [
       "152"
      ]
     },
     "execution_count": 18,
     "metadata": {},
     "output_type": "execute_result"
    }
   ],
   "source": [
    "female_above_thresh = sum(female_sample > thresh)\n",
    "female_above_thresh"
   ]
  },
  {
   "cell_type": "markdown",
   "metadata": {},
   "source": [
    "Now, take a look at what these thresholds look like when laid over the Probability Density Functions of both samples' distributions."
   ]
  },
  {
   "cell_type": "code",
   "execution_count": 19,
   "metadata": {},
   "outputs": [
    {
     "data": {
      "text/plain": [
       "Text(0.5, 0, 'height (cm)')"
      ]
     },
     "execution_count": 19,
     "metadata": {},
     "output_type": "execute_result"
    },
    {
     "data": {
      "image/png": "[encoded data removed]",
      "text/plain": [
       "<Figure size 432x288 with 1 Axes>"
      ]
     },
     "metadata": {
      "needs_background": "light"
     },
     "output_type": "display_data"
    }
   ],
   "source": [
    "# Male height\n",
    "m_xs, male_ys = evaluate_PDF(male_height)\n",
    "plt.plot(m_xs, male_ys, label='male', linewidth=4, color='#beaed4') \n",
    "\n",
    "#Female height \n",
    "f_xs, female_ys = evaluate_PDF(female_height)\n",
    "plt.plot(f_xs, female_ys, label='female', linewidth=4, color='#fdc086')\n",
    "plt.vlines(thresh,ymin=0,ymax=0.06)\n",
    "plt.fill_betweenx(male_ys,x1 = m_xs,x2=thresh, where = m_xs < thresh,color='b')\n",
    "plt.fill_betweenx(female_ys,x1=f_xs,x2=thresh, where = f_xs > thresh,color='b')\n",
    "plt.xlabel('height (cm)')"
   ]
  },
  {
   "cell_type": "markdown",
   "metadata": {},
   "source": [
    "The \"overlap\" (shaded region above) is the total **AUC (Area Under the Curves)**. You can use this to identify the samples that end up on the wrong side of the threshold. You can calculate the amount of overlap as shown below. "
   ]
  },
  {
   "cell_type": "code",
   "execution_count": 20,
   "metadata": {},
   "outputs": [
    {
     "data": {
      "text/plain": [
       "0.306"
      ]
     },
     "execution_count": 20,
     "metadata": {},
     "output_type": "execute_result"
    }
   ],
   "source": [
    "# Calculate the overlap \n",
    "overlap = male_below_thresh / len(male_sample) + female_above_thresh / len(female_sample)\n",
    "overlap"
   ]
  },
  {
   "cell_type": "markdown",
   "metadata": {},
   "source": [
    "Or in more practical terms, you might report the fraction of people who would be misclassified if you tried to use height to guess sex:"
   ]
  },
  {
   "cell_type": "code",
   "execution_count": 21,
   "metadata": {},
   "outputs": [
    {
     "data": {
      "text/plain": [
       "0.153"
      ]
     },
     "execution_count": 21,
     "metadata": {},
     "output_type": "execute_result"
    }
   ],
   "source": [
    "misclassification_rate = overlap / 2\n",
    "misclassification_rate"
   ]
  },
  {
   "cell_type": "markdown",
   "metadata": {},
   "source": [
    "## Probability of superiority (Non-parametric)\n",
    "\n",
    "Another \"non-parametric\" way to quantify the difference between distributions is what's called **\"probability of superiority\"**, which is the probability that *\"a randomly-chosen man is taller than a randomly-chosen woman\"*, which makes perfect sense.\n",
    "\n",
    "> Question: If you chose a male and a female sample at random, what is the probability that males are taller than females? "
   ]
  },
  {
   "cell_type": "code",
   "execution_count": 22,
   "metadata": {},
   "outputs": [
    {
     "data": {
      "text/plain": [
       "0.94"
      ]
     },
     "execution_count": 22,
     "metadata": {},
     "output_type": "execute_result"
    }
   ],
   "source": [
    "# Python zip() The zip() function take iterables (can be zero or more), \n",
    "# makes iterator that aggregates elements based on the iterables passed, \n",
    "# and returns an iterator of tuples.\n",
    "\n",
    "sum(x > y for x, y in zip(male_sample, female_sample)) / len(male_sample)"
   ]
  },
  {
   "cell_type": "markdown",
   "metadata": {},
   "source": [
    "> Question: If you chose a female and a male sample at random, what is the probability that females are smaller than males in height? Is it different/same as above?"
   ]
  },
  {
   "cell_type": "code",
   "execution_count": 23,
   "metadata": {},
   "outputs": [
    {
     "data": {
      "text/plain": [
       "0.94"
      ]
     },
     "execution_count": 23,
     "metadata": {},
     "output_type": "execute_result"
    }
   ],
   "source": [
    "sum(x < y for x, y in zip(female_sample, male_sample)) / len(female_sample)"
   ]
  },
  {
   "cell_type": "markdown",
   "metadata": {},
   "source": [
    "Overlap (or misclassification rate) as shown above and \"probability of superiority\" have two good properties:\n",
    "\n",
    "* As probabilities, they don't depend on units of measure, so they are comparable between studies.\n",
    "\n",
    "* They are expressed in operational terms, so a reader has a sense of what practical effect the difference makes.\n",
    "\n",
    "There is one other common way to express the difference between distributions (i.e. the difference in means) standardizing by dividing by the standard deviation."
   ]
  },
  {
   "cell_type": "markdown",
   "metadata": {},
   "source": [
    "Here's a function that encapsulates the code you have already seen for computing overlap and probability of superiority."
   ]
  },
  {
   "cell_type": "code",
   "execution_count": 24,
   "metadata": {},
   "outputs": [],
   "source": [
    "def overlap_superiority(group1, group2, n=1000):\n",
    "    \"\"\"Estimates overlap and superiority based on a sample.\n",
    "    \n",
    "    group1: scipy.stats rv object\n",
    "    group2: scipy.stats rv object\n",
    "    n: sample size\n",
    "    \"\"\"\n",
    "\n",
    "    # Get a sample of size n from both groups\n",
    "    group1_sample = group1.rvs(n)\n",
    "    group2_sample = group2.rvs(n)\n",
    "    \n",
    "    # Identify the threshold between samples\n",
    "    thresh = (group1.mean() + group2.mean()) / 2\n",
    "    print(thresh)\n",
    "    \n",
    "    # Calculate no. of values above and below for group 1 and group 2 respectively\n",
    "    above = sum(group1_sample < thresh)\n",
    "    below = sum(group2_sample > thresh)\n",
    "    \n",
    "    # Calculate the overlap\n",
    "    overlap = (above + below) / n\n",
    "    \n",
    "    # Calculate probability of superiority\n",
    "    superiority = sum(x > y for x, y in zip(group1_sample, group2_sample)) / n\n",
    "\n",
    "    return overlap, superiority"
   ]
  },
  {
   "cell_type": "code",
   "execution_count": 25,
   "metadata": {},
   "outputs": [
    {
     "name": "stdout",
     "output_type": "stream",
     "text": [
      "170.5\n"
     ]
    },
    {
     "data": {
      "text/plain": [
       "(0.336, 0.94)"
      ]
     },
     "execution_count": 25,
     "metadata": {},
     "output_type": "execute_result"
    }
   ],
   "source": [
    "\n",
    "overlap_superiority(male_height, female_height, n=1000)"
   ]
  },
  {
   "cell_type": "markdown",
   "metadata": {},
   "source": [
    "## Standardized effect size\n",
    "\n",
    "When analysts generally talk about effect sizes, they refer to some method of calculating a *standardized* effect size. The standardized effect size statistic would divide effect size by some standardizer i.e. standard deviation:\n",
    "\n",
    ">**Effect Size / Standardiser**\n",
    "\n",
    "When interpreting, this statistic would be in terms of standard deviations e.g. The mean height of males in USA is 1.4 standard deviations higher than mean female heights etc. The effect size measure you will be learning about in this lesson is Cohen’s d. This measure expresses the size of an effect in terms of the number of standard deviations, similar to a $z$-score in statistics."
   ]
  },
  {
   "cell_type": "code",
   "execution_count": 24,
   "metadata": {},
   "outputs": [
    {
     "data": {
      "text/plain": [
       "'Cohen’s d is similar to the unpaired t test t value. It relies on Standard Deviations instead of Standard Errors'"
      ]
     },
     "execution_count": 24,
     "metadata": {},
     "output_type": "execute_result"
    }
   ],
   "source": [
    "## not covered yet\n",
    "\"Cohen’s d is similar to the unpaired t test t value. It relies on Standard Deviations instead of Standard Errors\"\n"
   ]
  },
  {
   "cell_type": "markdown",
   "metadata": {},
   "source": [
    "## Cohen's d\n",
    "\n",
    "Cohen’s d is one of the most common ways to measure effect size.  As an effect size, Cohen's d is typically used to represent the magnitude of differences between two (or more) groups on a given variable, with larger values representing a greater differentiation between the two groups on that variable. \n",
    "\n",
    "The basic formula to calculate Cohen’s $d$ is:\n",
    "\n",
    "> **$d$ = effect size (difference of means) / pooled standard deviation**\n",
    "\n",
    "The denominator is the **standardiser**, and it is important to select the most appropriate one for a given dataset. The pooled standard deviation is the average spread of all data points around their group mean (not the overall mean). "
   ]
  },
  {
   "cell_type": "code",
   "execution_count": 25,
   "metadata": {},
   "outputs": [],
   "source": [
    "def Cohen_d(group1, group2):\n",
    "\n",
    "    # Compute Cohen's d.\n",
    "\n",
    "    # group1: Series or NumPy array\n",
    "    # group2: Series or NumPy array\n",
    "\n",
    "    # returns a floating point number \n",
    "\n",
    "    diff = group1.mean() - group2.mean()\n",
    "\n",
    "    n1, n2 = len(group1), len(group2)\n",
    "    var1 = group1.var()\n",
    "    var2 = group2.var()\n",
    "\n",
    "    # Calculate the pooled threshold as shown earlier\n",
    "    pooled_var = (n1 * var1 + n2 * var2) / (n1 + n2)\n",
    "    \n",
    "    # Calculate Cohen's d statistic\n",
    "    d = diff / np.sqrt(pooled_var)\n",
    "    \n",
    "    return d"
   ]
  },
  {
   "cell_type": "markdown",
   "metadata": {},
   "source": [
    "Computing the denominator is a little complicated; in fact, people have proposed several ways to do it.  [Here](https://scientificallysound.org/2017/07/13/cohens-d-standardiser/) is a brief description of using standardizers while calculating Cohen's $d$ for standardized effect sizes.  \n",
    "\n",
    "This implementation uses the \"pooled standard deviation,\" which is a weighted average of the standard deviations of the two groups.\n",
    "\n",
    "And here's the result for the difference in height between men and women."
   ]
  },
  {
   "cell_type": "code",
   "execution_count": 26,
   "metadata": {},
   "outputs": [
    {
     "data": {
      "text/plain": [
       "2.0669285200851877"
      ]
     },
     "execution_count": 26,
     "metadata": {},
     "output_type": "execute_result"
    }
   ],
   "source": [
    "Cohen_d(male_sample, female_sample)"
   ]
  },
  {
   "cell_type": "markdown",
   "metadata": {},
   "source": [
    "## Interpreting $d$\n",
    "Most people don't have a good sense of how big $d=2.0$ is. If you are having trouble visualizing what the result of Cohen’s D means, use these general “rule of thumb” guidelines (which Cohen said should be used cautiously):\n",
    "\n",
    ">**Small effect = 0.2**\n",
    "\n",
    ">**Medium Effect = 0.5**\n",
    "\n",
    ">**Large Effect = 0.8**\n",
    "\n",
    "Here is an excellent online visualization tool developed by [Kristoffer Magnusson](https://rpsychologist.com/d3/cohend/) to help interpret the results of cohen's $d$ statistic. \n",
    "\n",
    "The following function that takes Cohen's $d$, plots normal distributions with the given effect size, and prints their overlap and superiority."
   ]
  },
  {
   "cell_type": "code",
   "execution_count": 27,
   "metadata": {},
   "outputs": [],
   "source": [
    "def plot_pdfs(cohen_d=2):\n",
    "    \"\"\"Plot PDFs for distributions that differ by some number of stds.\n",
    "    \n",
    "    cohen_d: number of standard deviations between the means\n",
    "    \"\"\"\n",
    "    group1 = scipy.stats.norm(0, 1)\n",
    "    group2 = scipy.stats.norm(cohen_d, 1)\n",
    "    xs, ys = evaluate_PDF(group1)\n",
    "    plt.fill_between(xs, ys, label='Group1', color='#ff2289', alpha=0.7)\n",
    "\n",
    "    xs, ys = evaluate_PDF(group2)\n",
    "    plt.fill_between(xs, ys, label='Group2', color='#376cb0', alpha=0.7)\n",
    "    \n",
    "    o, s = overlap_superiority(group1, group2)\n",
    "    print('overlap', o)\n",
    "    print('superiority', s)"
   ]
  },
  {
   "cell_type": "markdown",
   "metadata": {},
   "source": [
    "Here's an example that demonstrates the function:"
   ]
  },
  {
   "cell_type": "code",
   "execution_count": 28,
   "metadata": {},
   "outputs": [
    {
     "name": "stdout",
     "output_type": "stream",
     "text": [
      "2.5\n",
      "overlap 1.992\n",
      "superiority 0.0\n"
     ]
    },
    {
     "data": {
      "image/png": "[encoded data removed]",
      "text/plain": [
       "<Figure size 432x288 with 1 Axes>"
      ]
     },
     "metadata": {},
     "output_type": "display_data"
    }
   ],
   "source": [
    "plot_pdfs(5)\n",
    "# Try changing the d value and observe the effect on the outcome below"
   ]
  },
  {
   "cell_type": "markdown",
   "metadata": {},
   "source": [
    "Cohen's $d$ has a few nice properties:\n",
    "\n",
    "* Because mean and standard deviation have the same units, their ratio is dimensionless, so you can compare $d$ across different studies.\n",
    "\n",
    "* In fields that commonly use $d$, people are calibrated to know what values should be considered big, surprising, or important.\n",
    "\n",
    "* Given $d$ (and the assumption that the distributions are normal), you can compute overlap, superiority, and related statistics."
   ]
  },
  {
   "cell_type": "markdown",
   "metadata": {},
   "source": [
    "## Summary\n",
    "\n",
    "In this lesson, you highlighted the importance of calculating and interpreting effect size in Python as a measure of observing real world differences between two groups. You learned about simple (unstandardized) effect size calculation as the difference of means, as well as the standardization of this calculation with standard deviation as a standardizer. You also learned what Cohen's d statistic is and how to use it for practical purposes. The best way to report effect size often depends on the audience, goals, and subjects of study.  There is often a tradeoff between summary statistics that have good technical properties and statistics that are meaningful to a general audience."
   ]
  }
 ],
 "metadata": {
  "celltoolbar": "Raw Cell Format",
  "kernelspec": {
   "display_name": "Python 3 (ipykernel)",
   "language": "python",
   "name": "python3"
  },
  "language_info": {
   "codemirror_mode": {
    "name": "ipython",
    "version": 3
   },
   "file_extension": ".py",
   "mimetype": "text/x-python",
   "name": "python",
   "nbconvert_exporter": "python",
   "pygments_lexer": "ipython3",
   "version": "3.8.12"
  },
  "toc": {
   "base_numbering": 1,
   "nav_menu": {},
   "number_sections": true,
   "sideBar": true,
   "skip_h1_title": false,
   "title_cell": "Table of Contents",
   "title_sidebar": "Contents",
   "toc_cell": false,
   "toc_position": {},
   "toc_section_display": true,
   "toc_window_display": false
  }
 },
 "nbformat": 4,
 "nbformat_minor": 1
}
